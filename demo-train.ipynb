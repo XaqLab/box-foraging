{
 "cells": [
  {
   "cell_type": "code",
   "execution_count": 2,
   "id": "6cc4acc6-b722-4b9b-9aa3-7b18c8676f08",
   "metadata": {},
   "outputs": [],
   "source": [
    "from irc.manager import IRCManager\n",
    "\n",
    "manager = IRCManager(eval_interval=3, device='cpu', defaults='defaults/single_box.yaml')"
   ]
  },
  {
   "cell_type": "code",
   "execution_count": 3,
   "id": "8f87f0c1-5f75-44c6-a1db-552bacfa6e7d",
   "metadata": {},
   "outputs": [
    {
     "name": "stderr",
     "output_type": "stream",
     "text": [
      "/home/zhe/irc-gym/irc/manager.py:61: UserWarning: Using default agent seed 0.\n",
      "  warnings.warn(\n"
     ]
    },
    {
     "name": "stdout",
     "output_type": "stream",
     "text": [
      "Checkpoint (epoch 3) loaded.\n",
      "\n",
      "Epoch:  4/12\n",
      "Agent trained by 256 time steps (11m56.84s).\n",
      "\n",
      "Epoch:  5/12\n",
      "Agent trained by 256 time steps (11m13.47s).\n",
      "\n",
      "Epoch:  6/12\n",
      "Agent trained by 256 time steps (11m05.41s).\n",
      "Agent evaluated for 12 episodes of length 20. Average return 18.35 (1m17.76s).\n",
      "\n",
      "Epoch:  7/12\n",
      "Agent trained by 256 time steps (11m17.74s).\n",
      "\n",
      "Epoch:  8/12\n",
      "Agent trained by 256 time steps (11m37.65s).\n",
      "\n",
      "Epoch:  9/12\n",
      "Agent trained by 256 time steps (13m21.24s).\n",
      "Agent evaluated for 12 episodes of length 20. Average return 22.03 (1m55.63s).\n",
      "\n",
      "Epoch: 10/12\n",
      "Agent trained by 256 time steps (16m57.38s).\n",
      "\n",
      "Epoch: 11/12\n",
      "Agent trained by 256 time steps (21m47.17s).\n",
      "\n",
      "Epoch: 12/12\n",
      "Agent trained by 256 time steps (20m39.88s).\n",
      "Agent evaluated for 12 episodes of length 20. Average return 19.70 (1m21.23s).\n"
     ]
    },
    {
     "data": {
      "text/plain": [
       "<irc.agent.BeliefAgent at 0x7f17b1bab4f0>"
      ]
     },
     "execution_count": 3,
     "metadata": {},
     "output_type": "execute_result"
    }
   ],
   "source": [
    "manager.train_agent(env_param=[0.2, 0.6, 10], num_epochs=12)"
   ]
  }
 ],
 "metadata": {
  "kernelspec": {
   "display_name": "Python 3 (ipykernel)",
   "language": "python",
   "name": "python3"
  },
  "language_info": {
   "codemirror_mode": {
    "name": "ipython",
    "version": 3
   },
   "file_extension": ".py",
   "mimetype": "text/x-python",
   "name": "python",
   "nbconvert_exporter": "python",
   "pygments_lexer": "ipython3",
   "version": "3.9.13"
  }
 },
 "nbformat": 4,
 "nbformat_minor": 5
}
