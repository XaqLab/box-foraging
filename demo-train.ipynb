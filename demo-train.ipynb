{
 "cells": [
  {
   "cell_type": "code",
   "execution_count": 1,
   "id": "6cc4acc6-b722-4b9b-9aa3-7b18c8676f08",
   "metadata": {},
   "outputs": [],
   "source": [
    "from irc.manager import IRCManager\n",
    "\n",
    "manager = IRCManager(eval_interval=3, device='cpu', defaults='defaults/single_box.yaml')"
   ]
  },
  {
   "cell_type": "code",
   "execution_count": 2,
   "id": "8f87f0c1-5f75-44c6-a1db-552bacfa6e7d",
   "metadata": {},
   "outputs": [
    {
     "name": "stdout",
     "output_type": "stream",
     "text": [
      "Using default agent seed 0.\n",
      "Checkpoint (epoch 30) loaded.\n"
     ]
    }
   ],
   "source": [
    "agent = manager.train_agent(env_param=[0.2, 0.9, 10], num_epochs=30)"
   ]
  }
 ],
 "metadata": {
  "kernelspec": {
   "display_name": "Python 3 (ipykernel)",
   "language": "python",
   "name": "python3"
  },
  "language_info": {
   "codemirror_mode": {
    "name": "ipython",
    "version": 3
   },
   "file_extension": ".py",
   "mimetype": "text/x-python",
   "name": "python",
   "nbconvert_exporter": "python",
   "pygments_lexer": "ipython3",
   "version": "3.9.13"
  }
 },
 "nbformat": 4,
 "nbformat_minor": 5
}
